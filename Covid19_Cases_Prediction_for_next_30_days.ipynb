{
  "nbformat": 4,
  "nbformat_minor": 0,
  "metadata": {
    "colab": {
      "name": "Covid19_Cases_Prediction_for_next_30_days.ipynb",
      "provenance": [],
      "toc_visible": true,
      "authorship_tag": "ABX9TyOj4CvgWkp2rzO4gZLDQ8tK",
      "include_colab_link": true
    },
    "kernelspec": {
      "name": "python3",
      "display_name": "Python 3"
    },
    "language_info": {
      "name": "python"
    }
  },
  "cells": [
    {
      "cell_type": "markdown",
      "metadata": {
        "id": "view-in-github",
        "colab_type": "text"
      },
      "source": [
        "<a href=\"https://colab.research.google.com/github/tamandeeps/Covid-19-Cases-Prediction-for-nexr-30-days/blob/main/Covid19_Cases_Prediction_for_next_30_days.ipynb\" target=\"_parent\"><img src=\"https://colab.research.google.com/assets/colab-badge.svg\" alt=\"Open In Colab\"/></a>"
      ]
    },
    {
      "cell_type": "code",
      "execution_count": 2,
      "metadata": {
        "id": "5r8VGvf3EKaj"
      },
      "outputs": [],
      "source": [
        "import pandas as pd\n",
        "import numpy as np\n",
        "import matplotlib.pyplot as plt\n",
        "import plotly.express as px\n",
        "from fbprophet import Prophet\n",
        "from sklearn.metrics import r2_score"
      ]
    },
    {
      "cell_type": "code",
      "source": [
        "df0=pd.read_csv(\"/CONVENIENT_global_confirmed_cases.csv\")\n",
        "df1=pd.read_csv(\"/CONVENIENT_global_deaths.csv\")"
      ],
      "metadata": {
        "id": "ux3Ym_EJHHml"
      },
      "execution_count": 5,
      "outputs": []
    }
  ]
}